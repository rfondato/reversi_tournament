{
 "cells": [
  {
   "cell_type": "markdown",
   "id": "f9e3da83-12da-4e34-be23-314ee9cad181",
   "metadata": {},
   "source": [
    "## Plataforma de Torneo:"
   ]
  },
  {
   "cell_type": "code",
   "execution_count": 1,
   "id": "5417edff-4d21-4a6e-abcd-c0706122f352",
   "metadata": {},
   "outputs": [],
   "source": [
    "%load_ext autoreload\n",
    "%autoreload 2"
   ]
  },
  {
   "cell_type": "code",
   "execution_count": 2,
   "id": "a11ca471-fe0a-4468-a323-484e26f91e0e",
   "metadata": {},
   "outputs": [],
   "source": [
    "from tournament import Tournament"
   ]
  },
  {
   "cell_type": "markdown",
   "id": "522a54cb-4616-47f6-8594-f4a272e7027c",
   "metadata": {},
   "source": [
    "### Paso 1 - Crear el torneo:\n",
    "* games_per_match: Por cada partido entre jugadores, cuantos juegos se juegan para definir el ganador (3 puntos), que será quien mas cantidad de juegos gane. Si empatan en cantidad de juegos ganados, entonces el partido termina en empate y cada jugador suma 1 punto.\n",
    "* board_shape: Tamaño del tablero (n x n).\n",
    "* deterministic: True si los jugadores deben jugar en modo determinístico, False en caso contrario.\n",
    "* n_processes: Cantidad de procesos en paralelo a utilizar para jugar los partidos. Si n_processes = 1, no se crea ningun proceso nuevo (desactivado).\n",
    "* verbose: Muestra información del torneo y resultados en la notebook (recomendado True).\n",
    "* log_folder: Especifica la carpeta donde se generarán los logs del torneo. Si es None, no se creará ningun log file.\n",
    "    * Cada torneo genera una carpeta nueva dentro de log_folder con el formato Tournament_fecha_hora. En ella se agregan:\n",
    "        * Un archivo results.log con el/los ganadores/ganadoras del torneo y la tabla final de posiciones.\n",
    "        * Un archivo match_jugador1_vs_jugador2.log por cada partido (combiación de jugadores), con las estadísticas de ese partido.\n",
    "\n",
    "#### Nota: Crear la carpeta /log/ previamente si se utiliza éste ejemplo!"
   ]
  },
  {
   "cell_type": "code",
   "execution_count": 3,
   "id": "ee887ea8-9050-45a5-827b-6e9a0155db4f",
   "metadata": {},
   "outputs": [],
   "source": [
    "torneo = Tournament(\n",
    "     games_per_match = 100,\n",
    "     board_shape = 8,\n",
    "     deterministic = False,\n",
    "     n_processes = 8,\n",
    "     verbose = True,\n",
    "     log_folder = \"./log/\"\n",
    ")"
   ]
  },
  {
   "cell_type": "markdown",
   "id": "a3a602fc-7fdc-477a-b1b5-35becd777d9a",
   "metadata": {},
   "source": [
    "### Paso 2: Agregar a los jugadores al torneo:\n",
    "\n",
    "Importar los jugadores desde los módulos respectivos, seteando en \"model_path\" el .zip file para cada uno.\n",
    "En el siguiente ejemplo se carga 1 jugador (example.py) de ejemplo y además se agrega a RandomPlayer y GreedyPlayer como concursantes."
   ]
  },
  {
   "cell_type": "code",
   "execution_count": 4,
   "id": "d9a244fb-c05c-429b-856f-347cfec27451",
   "metadata": {},
   "outputs": [],
   "source": [
    "from players import RandomPlayer, GreedyPlayer\n",
    "from boardgame2 import ReversiEnv"
   ]
  },
  {
   "cell_type": "code",
   "execution_count": 5,
   "id": "6c2c2efc-9b7f-4853-a8be-4f5b12682b57",
   "metadata": {},
   "outputs": [],
   "source": [
    "from rfondato import RFondatoPlayer"
   ]
  },
  {
   "cell_type": "code",
   "execution_count": 6,
   "id": "3b39ef45-edd9-4104-b445-d18b5423a120",
   "metadata": {},
   "outputs": [],
   "source": [
    "env = ReversiEnv(board_shape=8)"
   ]
  },
  {
   "cell_type": "code",
   "execution_count": 7,
   "id": "67f90f99-4628-4222-b21b-757f9625d982",
   "metadata": {},
   "outputs": [],
   "source": [
    "torneo.add_player(RandomPlayer(env=env))\n",
    "torneo.add_player(GreedyPlayer(env=env))\n",
    "torneo.add_player(RFondatoPlayer(env=env, model_path=\"./models/rfondato.zip\", device=\"cpu\"))"
   ]
  },
  {
   "cell_type": "markdown",
   "id": "233ae19e-15d4-47f7-b9cf-6dbd86185c33",
   "metadata": {},
   "source": [
    "### Paso 3: Ejecuto el torneo y veo resultados:"
   ]
  },
  {
   "cell_type": "code",
   "execution_count": 8,
   "id": "037d0a9a-e805-427a-9ea6-f558d64f27f1",
   "metadata": {},
   "outputs": [
    {
     "name": "stdout",
     "output_type": "stream",
     "text": [
      "Initiating Tournament: \n",
      "\n",
      "Logging matches in the following folder: /home/rfondato/Reversi Tournament/log/Tournament_2021-08-25_15:25:27.039126 \n",
      "\n",
      "\u001b[92mCompetitors: \u001b[0m\n",
      "\u001b[92m* RandomPlayer\u001b[0m\n",
      "\u001b[92m* GreedyPlayer\u001b[0m\n",
      "\u001b[92m* rfondato\u001b[0m\n",
      "\n",
      "Playing 3 matches in 8 processes...\n",
      "\n",
      "\u001b[KFinished 3 of 3\n",
      "\n",
      "\u001b[1m\u001b[96mWINNER: rfondato \n",
      "\n",
      "1 - rfondato - 6 points \n",
      "2 - GreedyPlayer - 3 points \n",
      "3 - RandomPlayer - 0 points \n",
      "\u001b[0m\u001b[0m\n"
     ]
    }
   ],
   "source": [
    "torneo.play()"
   ]
  },
  {
   "cell_type": "markdown",
   "id": "d212f1aa-2af3-4bd5-8e07-649aa1e03dd4",
   "metadata": {},
   "source": [
    "Podemos ver que el torneo genera 3 matches para las 3 posibles combinaciones:\n",
    "   * rFondato vs Random\n",
    "   * rFondato vs Greedy\n",
    "   * Random vs Greedy\n",
    "   \n",
    "Chequear la carpeta /log/ para ver estadísticas de cada partido."
   ]
  },
  {
   "cell_type": "code",
   "execution_count": null,
   "id": "c9c44619-c7c9-4d94-8ade-39bee167638a",
   "metadata": {},
   "outputs": [],
   "source": []
  }
 ],
 "metadata": {
  "kernelspec": {
   "display_name": "Python 3",
   "language": "python",
   "name": "python3"
  },
  "language_info": {
   "codemirror_mode": {
    "name": "ipython",
    "version": 3
   },
   "file_extension": ".py",
   "mimetype": "text/x-python",
   "name": "python",
   "nbconvert_exporter": "python",
   "pygments_lexer": "ipython3",
   "version": "3.6.13"
  }
 },
 "nbformat": 4,
 "nbformat_minor": 5
}
